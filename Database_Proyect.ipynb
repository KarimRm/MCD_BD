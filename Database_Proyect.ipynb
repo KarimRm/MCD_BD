{
 "cells": [
  {
   "cell_type": "markdown",
   "id": "0d240e2e",
   "metadata": {},
   "source": [
    "### Antes de comenzar\n",
    "\n",
    "Se preparo el ambiente en MySQL Workbench para tener una database para tener donde importar la información\n",
    "se creo una database llamada cine_mx, despues por medio de 'Table Data Import Wizard' se importo un archivo\n",
    "csv del cual fue descargado desde la pagina 'https://datos.gob.mx/busca/dataset/catalogo-producciones-cinematograficas'\n",
    "donde se obtuvo un conjunto de datos, los cuales no estaban tan saturados."
   ]
  },
  {
   "cell_type": "markdown",
   "id": "a8135387",
   "metadata": {},
   "source": [
    "Cabe mencionar que en el mismo 'Table Data Import Wizard' se genero el mismo esquema para la tabla 'peliculas'"
   ]
  },
  {
   "cell_type": "code",
   "execution_count": 5,
   "id": "c11f70af",
   "metadata": {},
   "outputs": [
    {
     "name": "stdout",
     "output_type": "stream",
     "text": [
      "Requirement already satisfied: mysql-connector-python in c:\\users\\kramos\\appdata\\local\\packages\\pythonsoftwarefoundation.python.3.11_qbz5n2kfra8p0\\localcache\\local-packages\\python311\\site-packages (8.4.0)\n",
      "Requirement already satisfied: matplotlib in c:\\users\\kramos\\appdata\\local\\packages\\pythonsoftwarefoundation.python.3.11_qbz5n2kfra8p0\\localcache\\local-packages\\python311\\site-packages (3.9.0)\n",
      "Requirement already satisfied: pandas in c:\\users\\kramos\\appdata\\local\\packages\\pythonsoftwarefoundation.python.3.11_qbz5n2kfra8p0\\localcache\\local-packages\\python311\\site-packages (2.2.2)\n",
      "Requirement already satisfied: contourpy>=1.0.1 in c:\\users\\kramos\\appdata\\local\\packages\\pythonsoftwarefoundation.python.3.11_qbz5n2kfra8p0\\localcache\\local-packages\\python311\\site-packages (from matplotlib) (1.2.1)\n",
      "Requirement already satisfied: cycler>=0.10 in c:\\users\\kramos\\appdata\\local\\packages\\pythonsoftwarefoundation.python.3.11_qbz5n2kfra8p0\\localcache\\local-packages\\python311\\site-packages (from matplotlib) (0.12.1)\n",
      "Requirement already satisfied: fonttools>=4.22.0 in c:\\users\\kramos\\appdata\\local\\packages\\pythonsoftwarefoundation.python.3.11_qbz5n2kfra8p0\\localcache\\local-packages\\python311\\site-packages (from matplotlib) (4.53.0)\n",
      "Requirement already satisfied: kiwisolver>=1.3.1 in c:\\users\\kramos\\appdata\\local\\packages\\pythonsoftwarefoundation.python.3.11_qbz5n2kfra8p0\\localcache\\local-packages\\python311\\site-packages (from matplotlib) (1.4.5)\n",
      "Requirement already satisfied: numpy>=1.23 in c:\\users\\kramos\\appdata\\local\\packages\\pythonsoftwarefoundation.python.3.11_qbz5n2kfra8p0\\localcache\\local-packages\\python311\\site-packages (from matplotlib) (1.26.4)\n",
      "Requirement already satisfied: packaging>=20.0 in c:\\users\\kramos\\appdata\\local\\packages\\pythonsoftwarefoundation.python.3.11_qbz5n2kfra8p0\\localcache\\local-packages\\python311\\site-packages (from matplotlib) (24.1)\n",
      "Requirement already satisfied: pillow>=8 in c:\\users\\kramos\\appdata\\local\\packages\\pythonsoftwarefoundation.python.3.11_qbz5n2kfra8p0\\localcache\\local-packages\\python311\\site-packages (from matplotlib) (10.3.0)\n",
      "Requirement already satisfied: pyparsing>=2.3.1 in c:\\users\\kramos\\appdata\\local\\packages\\pythonsoftwarefoundation.python.3.11_qbz5n2kfra8p0\\localcache\\local-packages\\python311\\site-packages (from matplotlib) (3.1.2)\n",
      "Requirement already satisfied: python-dateutil>=2.7 in c:\\users\\kramos\\appdata\\local\\packages\\pythonsoftwarefoundation.python.3.11_qbz5n2kfra8p0\\localcache\\local-packages\\python311\\site-packages (from matplotlib) (2.9.0.post0)\n",
      "Requirement already satisfied: pytz>=2020.1 in c:\\users\\kramos\\appdata\\local\\packages\\pythonsoftwarefoundation.python.3.11_qbz5n2kfra8p0\\localcache\\local-packages\\python311\\site-packages (from pandas) (2024.1)\n",
      "Requirement already satisfied: tzdata>=2022.7 in c:\\users\\kramos\\appdata\\local\\packages\\pythonsoftwarefoundation.python.3.11_qbz5n2kfra8p0\\localcache\\local-packages\\python311\\site-packages (from pandas) (2024.1)\n",
      "Requirement already satisfied: six>=1.5 in c:\\users\\kramos\\appdata\\local\\packages\\pythonsoftwarefoundation.python.3.11_qbz5n2kfra8p0\\localcache\\local-packages\\python311\\site-packages (from python-dateutil>=2.7->matplotlib) (1.16.0)\n",
      "Note: you may need to restart the kernel to use updated packages.\n"
     ]
    }
   ],
   "source": [
    "%pip install mysql-connector-python matplotlib pandas"
   ]
  },
  {
   "cell_type": "markdown",
   "id": "515287f3",
   "metadata": {},
   "source": [
    "### Importes"
   ]
  },
  {
   "cell_type": "code",
   "execution_count": 6,
   "id": "5abad8c2",
   "metadata": {},
   "outputs": [],
   "source": [
    "import mysql.connector\n",
    "import pandas as pd\n",
    "import matplotlib.pyplot as plt"
   ]
  },
  {
   "cell_type": "markdown",
   "id": "f7dc19d5",
   "metadata": {},
   "source": [
    "### Conectar a la base de datos"
   ]
  },
  {
   "cell_type": "code",
   "execution_count": 7,
   "id": "664ccfa2",
   "metadata": {},
   "outputs": [
    {
     "data": {
      "text/plain": [
       "<mysql.connector.connection.MySQLConnection at 0x141385eb590>"
      ]
     },
     "execution_count": 7,
     "metadata": {},
     "output_type": "execute_result"
    }
   ],
   "source": [
    "db = mysql.connector.connect(\n",
    "        host=\"localhost\",\n",
    "        user=\"root\",\n",
    "        password=\"sushi22\",\n",
    "        database=\"cine_mx\"\n",
    "    )\n",
    "\n",
    "mycursor = db.cursor()\n",
    "db"
   ]
  },
  {
   "cell_type": "markdown",
   "id": "cd09d655",
   "metadata": {},
   "source": [
    "#### A continuacion se muestra el primer query para que este se use como dataframe usando libreria pandas"
   ]
  },
  {
   "cell_type": "code",
   "execution_count": 47,
   "id": "a67e16f1",
   "metadata": {},
   "outputs": [
    {
     "name": "stderr",
     "output_type": "stream",
     "text": [
      "C:\\Users\\Kramos\\AppData\\Local\\Temp\\ipykernel_21684\\1944469469.py:3: UserWarning: pandas only supports SQLAlchemy connectable (engine/connection) or database string URI or sqlite3 DBAPI2 connection. Other DBAPI2 objects are not tested. Please consider using SQLAlchemy.\n",
      "  movies_df = pd.read_sql(query, db)\n"
     ]
    },
    {
     "data": {
      "text/html": [
       "<div>\n",
       "<style scoped>\n",
       "    .dataframe tbody tr th:only-of-type {\n",
       "        vertical-align: middle;\n",
       "    }\n",
       "\n",
       "    .dataframe tbody tr th {\n",
       "        vertical-align: top;\n",
       "    }\n",
       "\n",
       "    .dataframe thead th {\n",
       "        text-align: right;\n",
       "    }\n",
       "</style>\n",
       "<table border=\"1\" class=\"dataframe\">\n",
       "  <thead>\n",
       "    <tr style=\"text-align: right;\">\n",
       "      <th></th>\n",
       "      <th>Titulo</th>\n",
       "      <th>Genero</th>\n",
       "      <th>Director</th>\n",
       "      <th>Anio</th>\n",
       "    </tr>\n",
       "  </thead>\n",
       "  <tbody>\n",
       "    <tr>\n",
       "      <th>0</th>\n",
       "      <td>Limite</td>\n",
       "      <td>Experimental</td>\n",
       "      <td>Juan Arturo Brennan</td>\n",
       "      <td>1977</td>\n",
       "    </tr>\n",
       "    <tr>\n",
       "      <th>1</th>\n",
       "      <td>El amante africano</td>\n",
       "      <td>Ficcion</td>\n",
       "      <td>Jordi Garcia Bergua</td>\n",
       "      <td>1978</td>\n",
       "    </tr>\n",
       "    <tr>\n",
       "      <th>2</th>\n",
       "      <td>La mentirosa</td>\n",
       "      <td>Ficcion</td>\n",
       "      <td>Juan Arturo Brennan</td>\n",
       "      <td>1977</td>\n",
       "    </tr>\n",
       "    <tr>\n",
       "      <th>3</th>\n",
       "      <td>La oveja negra y otras fabulas</td>\n",
       "      <td>Animacion</td>\n",
       "      <td>Fernando Sampietro</td>\n",
       "      <td>1978</td>\n",
       "    </tr>\n",
       "    <tr>\n",
       "      <th>4</th>\n",
       "      <td>Monse</td>\n",
       "      <td>Ficcion</td>\n",
       "      <td>Gloria Ribe</td>\n",
       "      <td>1978</td>\n",
       "    </tr>\n",
       "    <tr>\n",
       "      <th>...</th>\n",
       "      <td>...</td>\n",
       "      <td>...</td>\n",
       "      <td>...</td>\n",
       "      <td>...</td>\n",
       "    </tr>\n",
       "    <tr>\n",
       "      <th>530</th>\n",
       "      <td>Makam Maj (ï¿½A donde vas? )</td>\n",
       "      <td>Ficcion</td>\n",
       "      <td>Sofia Ptacnik Rosas</td>\n",
       "      <td>2023</td>\n",
       "    </tr>\n",
       "    <tr>\n",
       "      <th>531</th>\n",
       "      <td>Apnea</td>\n",
       "      <td>Ficcion</td>\n",
       "      <td>Natalia Bermï¿½dez</td>\n",
       "      <td>2023</td>\n",
       "    </tr>\n",
       "    <tr>\n",
       "      <th>532</th>\n",
       "      <td>El brillo de la luciernaga</td>\n",
       "      <td>Ficcion</td>\n",
       "      <td>Augusto Reyes</td>\n",
       "      <td>2023</td>\n",
       "    </tr>\n",
       "    <tr>\n",
       "      <th>533</th>\n",
       "      <td>Manos Ajenas</td>\n",
       "      <td>Ficcion</td>\n",
       "      <td>Adrian Monroy</td>\n",
       "      <td>2023</td>\n",
       "    </tr>\n",
       "    <tr>\n",
       "      <th>534</th>\n",
       "      <td>Hikuri</td>\n",
       "      <td>Ficcion</td>\n",
       "      <td>Sandra Ovilla Leon</td>\n",
       "      <td>2023</td>\n",
       "    </tr>\n",
       "  </tbody>\n",
       "</table>\n",
       "<p>535 rows × 4 columns</p>\n",
       "</div>"
      ],
      "text/plain": [
       "                             Titulo        Genero             Director  Anio\n",
       "0                            Limite  Experimental  Juan Arturo Brennan  1977\n",
       "1                El amante africano       Ficcion  Jordi Garcia Bergua  1978\n",
       "2                      La mentirosa       Ficcion  Juan Arturo Brennan  1977\n",
       "3    La oveja negra y otras fabulas     Animacion   Fernando Sampietro  1978\n",
       "4                             Monse       Ficcion          Gloria Ribe  1978\n",
       "..                              ...           ...                  ...   ...\n",
       "530    Makam Maj (ï¿½A donde vas? )       Ficcion  Sofia Ptacnik Rosas  2023\n",
       "531                           Apnea       Ficcion   Natalia Bermï¿½dez  2023\n",
       "532      El brillo de la luciernaga       Ficcion        Augusto Reyes  2023\n",
       "533                    Manos Ajenas       Ficcion        Adrian Monroy  2023\n",
       "534                          Hikuri       Ficcion   Sandra Ovilla Leon  2023\n",
       "\n",
       "[535 rows x 4 columns]"
      ]
     },
     "execution_count": 47,
     "metadata": {},
     "output_type": "execute_result"
    }
   ],
   "source": [
    "query = \"SELECT * FROM peliculas\"\n",
    "\n",
    "movies_df = pd.read_sql(query, db)\n",
    "\n",
    "movies_df"
   ]
  },
  {
   "cell_type": "markdown",
   "id": "0a54dd2c",
   "metadata": {},
   "source": [
    "### Para tener evidencia de la conexion y su funcionamiento se ejecuto lo siguiente para la edicion de una entrada, en este caso hablamos de la pelicula 'Limite', basandonos en el nombre de la pelicula y cambiando su año de estreno, cambiandolo del año 1977 a 1970"
   ]
  },
  {
   "cell_type": "code",
   "execution_count": 48,
   "id": "64588a2f",
   "metadata": {},
   "outputs": [
    {
     "name": "stdout",
     "output_type": "stream",
     "text": [
      "1 record(s) affected\n"
     ]
    },
    {
     "name": "stderr",
     "output_type": "stream",
     "text": [
      "C:\\Users\\Kramos\\AppData\\Local\\Temp\\ipykernel_21684\\4213949847.py:8: UserWarning: pandas only supports SQLAlchemy connectable (engine/connection) or database string URI or sqlite3 DBAPI2 connection. Other DBAPI2 objects are not tested. Please consider using SQLAlchemy.\n",
      "  movies_df = pd.read_sql(query, db)\n"
     ]
    },
    {
     "data": {
      "text/html": [
       "<div>\n",
       "<style scoped>\n",
       "    .dataframe tbody tr th:only-of-type {\n",
       "        vertical-align: middle;\n",
       "    }\n",
       "\n",
       "    .dataframe tbody tr th {\n",
       "        vertical-align: top;\n",
       "    }\n",
       "\n",
       "    .dataframe thead th {\n",
       "        text-align: right;\n",
       "    }\n",
       "</style>\n",
       "<table border=\"1\" class=\"dataframe\">\n",
       "  <thead>\n",
       "    <tr style=\"text-align: right;\">\n",
       "      <th></th>\n",
       "      <th>Titulo</th>\n",
       "      <th>Genero</th>\n",
       "      <th>Director</th>\n",
       "      <th>Anio</th>\n",
       "    </tr>\n",
       "  </thead>\n",
       "  <tbody>\n",
       "    <tr>\n",
       "      <th>0</th>\n",
       "      <td>Limite</td>\n",
       "      <td>Experimental</td>\n",
       "      <td>Juan Arturo Brennan</td>\n",
       "      <td>1970</td>\n",
       "    </tr>\n",
       "    <tr>\n",
       "      <th>1</th>\n",
       "      <td>El amante africano</td>\n",
       "      <td>Ficcion</td>\n",
       "      <td>Jordi Garcia Bergua</td>\n",
       "      <td>1978</td>\n",
       "    </tr>\n",
       "    <tr>\n",
       "      <th>2</th>\n",
       "      <td>La mentirosa</td>\n",
       "      <td>Ficcion</td>\n",
       "      <td>Juan Arturo Brennan</td>\n",
       "      <td>1977</td>\n",
       "    </tr>\n",
       "    <tr>\n",
       "      <th>3</th>\n",
       "      <td>La oveja negra y otras fabulas</td>\n",
       "      <td>Animacion</td>\n",
       "      <td>Fernando Sampietro</td>\n",
       "      <td>1978</td>\n",
       "    </tr>\n",
       "    <tr>\n",
       "      <th>4</th>\n",
       "      <td>Monse</td>\n",
       "      <td>Ficcion</td>\n",
       "      <td>Gloria Ribe</td>\n",
       "      <td>1978</td>\n",
       "    </tr>\n",
       "    <tr>\n",
       "      <th>...</th>\n",
       "      <td>...</td>\n",
       "      <td>...</td>\n",
       "      <td>...</td>\n",
       "      <td>...</td>\n",
       "    </tr>\n",
       "    <tr>\n",
       "      <th>530</th>\n",
       "      <td>Makam Maj (ï¿½A donde vas? )</td>\n",
       "      <td>Ficcion</td>\n",
       "      <td>Sofia Ptacnik Rosas</td>\n",
       "      <td>2023</td>\n",
       "    </tr>\n",
       "    <tr>\n",
       "      <th>531</th>\n",
       "      <td>Apnea</td>\n",
       "      <td>Ficcion</td>\n",
       "      <td>Natalia Bermï¿½dez</td>\n",
       "      <td>2023</td>\n",
       "    </tr>\n",
       "    <tr>\n",
       "      <th>532</th>\n",
       "      <td>El brillo de la luciernaga</td>\n",
       "      <td>Ficcion</td>\n",
       "      <td>Augusto Reyes</td>\n",
       "      <td>2023</td>\n",
       "    </tr>\n",
       "    <tr>\n",
       "      <th>533</th>\n",
       "      <td>Manos Ajenas</td>\n",
       "      <td>Ficcion</td>\n",
       "      <td>Adrian Monroy</td>\n",
       "      <td>2023</td>\n",
       "    </tr>\n",
       "    <tr>\n",
       "      <th>534</th>\n",
       "      <td>Hikuri</td>\n",
       "      <td>Ficcion</td>\n",
       "      <td>Sandra Ovilla Leon</td>\n",
       "      <td>2023</td>\n",
       "    </tr>\n",
       "  </tbody>\n",
       "</table>\n",
       "<p>535 rows × 4 columns</p>\n",
       "</div>"
      ],
      "text/plain": [
       "                             Titulo        Genero             Director  Anio\n",
       "0                            Limite  Experimental  Juan Arturo Brennan  1970\n",
       "1                El amante africano       Ficcion  Jordi Garcia Bergua  1978\n",
       "2                      La mentirosa       Ficcion  Juan Arturo Brennan  1977\n",
       "3    La oveja negra y otras fabulas     Animacion   Fernando Sampietro  1978\n",
       "4                             Monse       Ficcion          Gloria Ribe  1978\n",
       "..                              ...           ...                  ...   ...\n",
       "530    Makam Maj (ï¿½A donde vas? )       Ficcion  Sofia Ptacnik Rosas  2023\n",
       "531                           Apnea       Ficcion   Natalia Bermï¿½dez  2023\n",
       "532      El brillo de la luciernaga       Ficcion        Augusto Reyes  2023\n",
       "533                    Manos Ajenas       Ficcion        Adrian Monroy  2023\n",
       "534                          Hikuri       Ficcion   Sandra Ovilla Leon  2023\n",
       "\n",
       "[535 rows x 4 columns]"
      ]
     },
     "execution_count": 48,
     "metadata": {},
     "output_type": "execute_result"
    }
   ],
   "source": [
    "updateQuery = \"UPDATE peliculas SET Anio = 1970 WHERE Titulo = 'Limite'\"\n",
    "mycursor.execute(updateQuery)\n",
    "\n",
    "db.commit() #Necesario para hacer valer los cambios en la base de datos\n",
    "print(mycursor.rowcount, \"record(s) affected\")\n",
    "\n",
    "query = \"SELECT * FROM peliculas\"\n",
    "movies_df = pd.read_sql(query, db)\n",
    "\n",
    "movies_df"
   ]
  },
  {
   "cell_type": "markdown",
   "id": "7179f160",
   "metadata": {},
   "source": [
    "Como se puede ver en el dataframe de arriba tuvimos exito."
   ]
  },
  {
   "cell_type": "markdown",
   "id": "a78e3df0",
   "metadata": {},
   "source": [
    "### Graficar los datos"
   ]
  },
  {
   "cell_type": "code",
   "execution_count": 30,
   "id": "5be1790e",
   "metadata": {},
   "outputs": [],
   "source": [
    "def plot_data(df):\n",
    "    plt.scatter(df['Genero'], df['Anio'])\n",
    "    plt.xlabel('Genero')\n",
    "    plt.ylabel('Epoca')\n",
    "    plt.title('Relevancia de generos')\n",
    "    plt.show()"
   ]
  },
  {
   "cell_type": "markdown",
   "id": "eb839d78",
   "metadata": {},
   "source": [
    "### Obtener datos y graficar"
   ]
  },
  {
   "cell_type": "markdown",
   "id": "90d43141",
   "metadata": {},
   "source": [
    "#### Analisis de datos graficados\n",
    "##### Sorprendetemente las peliculas que mas se han financiado en Mexico (segun nuestros datos), con las peliculas del genero 'Ficcion'"
   ]
  },
  {
   "cell_type": "code",
   "execution_count": 31,
   "id": "18c359c0",
   "metadata": {},
   "outputs": [
    {
     "name": "stderr",
     "output_type": "stream",
     "text": [
      "C:\\Users\\Kramos\\AppData\\Local\\Temp\\ipykernel_860\\2843365112.py:2: UserWarning: pandas only supports SQLAlchemy connectable (engine/connection) or database string URI or sqlite3 DBAPI2 connection. Other DBAPI2 objects are not tested. Please consider using SQLAlchemy.\n",
      "  movies_filtered_df = pd.read_sql(query, db)\n"
     ]
    },
    {
     "data": {
      "image/png": "[encoded data removed]",
      "text/plain": [
       "<Figure size 640x480 with 1 Axes>"
      ]
     },
     "metadata": {},
     "output_type": "display_data"
    }
   ],
   "source": [
    "query = \"SELECT Genero, Anio FROM peliculas\"\n",
    "movies_filtered_df = pd.read_sql(query, db)\n",
    "\n",
    "movies_filtered_df\n",
    "\n",
    "plot_data(movies_filtered_df)"
   ]
  },
  {
   "cell_type": "markdown",
   "id": "5d46025e",
   "metadata": {},
   "source": [
    "### Por la naturaleza de la cantidad de los datos, hasta aqui llega el analisis (ya que el archivo csv contiene pocos datos)."
   ]
  }
 ],
 "metadata": {
  "kernelspec": {
   "display_name": "Python 3 (ipykernel)",
   "language": "python",
   "name": "python3"
  },
  "language_info": {
   "codemirror_mode": {
    "name": "ipython",
    "version": 3
   },
   "file_extension": ".py",
   "mimetype": "text/x-python",
   "name": "python",
   "nbconvert_exporter": "python",
   "pygments_lexer": "ipython3",
   "version": "3.11.9"
  }
 },
 "nbformat": 4,
 "nbformat_minor": 5
}
